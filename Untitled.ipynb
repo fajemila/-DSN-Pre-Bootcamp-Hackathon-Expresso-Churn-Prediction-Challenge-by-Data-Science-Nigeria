{
 "cells": [
  {
   "cell_type": "code",
   "execution_count": 1,
   "metadata": {},
   "outputs": [],
   "source": [
    "import pandas as pd\n",
    "import numpy as np\n",
    "import matplotlib.pyplot as plt\n",
    "import seaborn as sns\n",
    "from IPython.display import display\n",
    "from lightgbm import LGBMClassifier\n",
    "from catboost import CatBoostClassifier\n",
    "from xgboost import XGBClassifier\n",
    "from sklearn.ensemble import GradientBoostingClassifier,AdaBoostClassifier,ExtraTreesClassifier,RandomForestClassifier\n",
    "from sklearn.tree import DecisionTreeClassifier\n",
    "from sklearn.model_selection import KFold\n",
    "from sklearn.metrics import mean_squared_error,log_loss\n",
    "from sklearn.preprocessing import LabelEncoder,StandardScaler,MinMaxScaler\n",
    "from math import sqrt\n",
    "import warnings\n",
    "warnings.filterwarnings(\"ignore\")\n",
    "\n",
    "# Set all options\n",
    "%matplotlib inline\n",
    "plt.style.use('seaborn-notebook')\n",
    "plt.rcParams[\"figure.figsize\"] = (20, 3)\n",
    "pd.options.display.float_format = '{:20,.4f}'.format\n",
    "pd.set_option('display.max_columns', None)\n",
    "pd.set_option('display.max_rows', None)\n",
    "sns.set(context=\"paper\", font=\"monospace\")"
   ]
  },
  {
   "cell_type": "code",
   "execution_count": 2,
   "metadata": {},
   "outputs": [],
   "source": [
    "train_data = pd.read_csv('Train.csv')\n",
    "test_data = pd.read_csv('Test.csv')"
   ]
  },
  {
   "cell_type": "code",
   "execution_count": 3,
   "metadata": {},
   "outputs": [],
   "source": [
    "train_data.set_index('user_id', inplace = True)\n",
    "test_data.set_index('user_id',inplace=True)"
   ]
  },
  {
   "cell_type": "code",
   "execution_count": 4,
   "metadata": {},
   "outputs": [],
   "source": [
    "train_data.drop(['ZONE1', 'ZONE2','MRG'], axis = 1, inplace = True)\n",
    "test_data.drop(['ZONE1', 'ZONE2', 'MRG'], axis = 1, inplace = True)"
   ]
  },
  {
   "cell_type": "code",
   "execution_count": 5,
   "metadata": {},
   "outputs": [],
   "source": [
    "test_data['CHURN'] = 'test_data' #for easy separation\n",
    "\n",
    "# Combine train and test to avoid repetition\n",
    "data = pd.concat([train_data, test_data]).reset_index(drop=True)"
   ]
  },
  {
   "cell_type": "code",
   "execution_count": 6,
   "metadata": {},
   "outputs": [],
   "source": [
    "missing_col = data.columns[data.isna().any()]"
   ]
  },
  {
   "cell_type": "code",
   "execution_count": 7,
   "metadata": {},
   "outputs": [],
   "source": [
    "for col in missing_col.drop(['REGION', 'TOP_PACK']):\n",
    "    \n",
    "    data[col].fillna(999, inplace = True)"
   ]
  },
  {
   "cell_type": "code",
   "execution_count": 8,
   "metadata": {},
   "outputs": [],
   "source": [
    "for col in [ 'TOP_PACK', 'REGION']:\n",
    "    \n",
    "    data[col].fillna(data[col].mode(),inplace = True)"
   ]
  },
  {
   "cell_type": "code",
   "execution_count": 9,
   "metadata": {},
   "outputs": [],
   "source": [
    "tenure = data.drop('CHURN',1).groupby('TENURE').median()\n",
    "ten_cols = tenure.columns.tolist()\n",
    "ten_mapper = {}\n",
    "\n",
    "for c in ten_cols:\n",
    "  ten_mapper[c] = c+'_mean_on_ten'"
   ]
  },
  {
   "cell_type": "code",
   "execution_count": 10,
   "metadata": {},
   "outputs": [],
   "source": [
    "tenure.rename(columns=ten_mapper, inplace=True)\n",
    "tenure['TENURE'] = tenure.index\n",
    "tenure.reset_index(drop=True, inplace=True)"
   ]
  },
  {
   "cell_type": "code",
   "execution_count": 11,
   "metadata": {},
   "outputs": [],
   "source": [
    "top_pack = data.drop('CHURN',1).groupby('TOP_PACK').median()\n",
    "tp_cols = top_pack.columns.tolist()\n",
    "tp_mapper = {}\n",
    "\n",
    "for c in tp_cols:\n",
    "  tp_mapper[c] = c+'_mean_on_tp'"
   ]
  },
  {
   "cell_type": "code",
   "execution_count": 12,
   "metadata": {},
   "outputs": [],
   "source": [
    "top_pack.rename(columns=tp_mapper, inplace=True)\n",
    "top_pack['TOP_PACK'] = top_pack.index\n",
    "top_pack.reset_index(drop=True, inplace=True)"
   ]
  },
  {
   "cell_type": "code",
   "execution_count": 13,
   "metadata": {},
   "outputs": [],
   "source": [
    "region = data.drop('CHURN',1).groupby('REGION').median()"
   ]
  },
  {
   "cell_type": "code",
   "execution_count": 14,
   "metadata": {},
   "outputs": [],
   "source": [
    "reg_cols = region.columns.tolist()\n",
    "reg_mapper = {}\n",
    "\n",
    "for c in reg_cols:\n",
    "  reg_mapper[c] = c+'_mean_on_reg'"
   ]
  },
  {
   "cell_type": "code",
   "execution_count": 15,
   "metadata": {},
   "outputs": [],
   "source": [
    "region.rename(columns=reg_mapper, inplace=True)\n",
    "region['REGION'] = region.index\n",
    "region.reset_index(drop=True, inplace=True)"
   ]
  },
  {
   "cell_type": "code",
   "execution_count": 13,
   "metadata": {},
   "outputs": [],
   "source": [
    "data = data.merge(top_pack, on='TOP_PACK', how='left')"
   ]
  },
  {
   "cell_type": "code",
   "execution_count": 14,
   "metadata": {},
   "outputs": [],
   "source": [
    "data = data.merge(tenure, on='TENURE', how='left')"
   ]
  },
  {
   "cell_type": "code",
   "execution_count": 18,
   "metadata": {},
   "outputs": [],
   "source": [
    "data = data.merge(region, on='REGION', how='left')"
   ]
  },
  {
   "cell_type": "code",
   "execution_count": 15,
   "metadata": {},
   "outputs": [],
   "source": [
    "data['TOT_REVENUE'] = data.REVENUE * data.FREQUENCE\n",
    "data['TOT_SPENT'] = data.MONTANT * data.FREQUENCE_RECH\n",
    "data['GROSS'] = data['TOT_REVENUE'] - data['TOT_SPENT']\n",
    "data['REVENUE-MONTANT'] = data['REVENUE'] - data['MONTANT']\n",
    "data['REVENUE/MONTANT'] = data['REVENUE'] / data['MONTANT']"
   ]
  },
  {
   "cell_type": "code",
   "execution_count": 16,
   "metadata": {},
   "outputs": [],
   "source": [
    "from scipy.stats import skew,norm"
   ]
  },
  {
   "cell_type": "code",
   "execution_count": 17,
   "metadata": {},
   "outputs": [
    {
     "name": "stdout",
     "output_type": "stream",
     "text": [
      "There are 17 numerical features with Skew > 0.5 :\n"
     ]
    },
    {
     "data": {
      "text/plain": [
       "REVENUE/MONTANT                           50.6464\n",
       "DATA_VOLUME                               36.4281\n",
       "REVENUE_mean_on_ten                       33.5095\n",
       "MONTANT_mean_on_ten                       33.5085\n",
       "FREQ_TOP_PACK_mean_on_ten                 11.8216\n",
       "ORANGE_mean_on_ten                        10.2562\n",
       "ON_NET                                     6.7320\n",
       "FREQUENCE_RECH_mean_on_ten                 4.7596\n",
       "FREQUENCE_mean_on_ten                      4.7388\n",
       "ARPU_SEGMENT                               4.6681\n",
       "dtype: float64"
      ]
     },
     "execution_count": 17,
     "metadata": {},
     "output_type": "execute_result"
    }
   ],
   "source": [
    "numeric = data.select_dtypes(include='number').columns\n",
    "skew_features = data[numeric].apply(lambda x: skew(x)).sort_values(ascending=False)\n",
    "\n",
    "high_skew = skew_features[skew_features > 0.6]\n",
    "skew_index = high_skew.index\n",
    "\n",
    "print(\"There are {} numerical features with Skew > 0.5 :\".format(high_skew.shape[0]))\n",
    "skewness = pd.DataFrame({'Skew' :high_skew})\n",
    "skew_features.head(10)"
   ]
  },
  {
   "cell_type": "code",
   "execution_count": 18,
   "metadata": {},
   "outputs": [],
   "source": [
    "for column in skew_index:\n",
    "    data[column] = np.log1p(data[column])"
   ]
  },
  {
   "cell_type": "code",
   "execution_count": 19,
   "metadata": {},
   "outputs": [],
   "source": [
    "cat_features = data.select_dtypes(exclude=np.number).columns.drop('CHURN')"
   ]
  },
  {
   "cell_type": "code",
   "execution_count": 20,
   "metadata": {
    "scrolled": true
   },
   "outputs": [
    {
     "name": "stdout",
     "output_type": "stream",
     "text": [
      "REGION has 14 unique categories\n",
      "TENURE has 8 unique categories\n",
      "TOP_PACK has 112 unique categories\n"
     ]
    }
   ],
   "source": [
    "for col in cat_features:\n",
    "    print('{} has {} unique categories'.format(col, data[col].nunique()))"
   ]
  },
  {
   "cell_type": "code",
   "execution_count": 21,
   "metadata": {},
   "outputs": [],
   "source": [
    "data = pd.get_dummies(columns= ['REGION', 'TENURE'], data = data)"
   ]
  },
  {
   "cell_type": "code",
   "execution_count": 22,
   "metadata": {},
   "outputs": [],
   "source": [
    "#Label encoding\n",
    "data['TOP_PACK']  = pd.factorize(data['TOP_PACK'])[0]"
   ]
  },
  {
   "cell_type": "code",
   "execution_count": 23,
   "metadata": {},
   "outputs": [],
   "source": [
    "train_data = data.loc[( data['CHURN'] != 'test_data')].reset_index(drop = True)\n",
    "test_data = data.loc[( data['CHURN'] == 'test_data')].reset_index(drop = True)"
   ]
  },
  {
   "cell_type": "code",
   "execution_count": 24,
   "metadata": {},
   "outputs": [
    {
     "data": {
      "text/plain": [
       "Index(['MONTANT', 'FREQUENCE_RECH', 'REVENUE', 'ARPU_SEGMENT', 'FREQUENCE',\n",
       "       'DATA_VOLUME', 'ON_NET', 'ORANGE', 'TIGO', 'REGULARITY', 'TOP_PACK',\n",
       "       'FREQ_TOP_PACK', 'CHURN', 'MONTANT_mean_on_tp',\n",
       "       'FREQUENCE_RECH_mean_on_tp', 'REVENUE_mean_on_tp',\n",
       "       'ARPU_SEGMENT_mean_on_tp', 'FREQUENCE_mean_on_tp',\n",
       "       'DATA_VOLUME_mean_on_tp', 'ON_NET_mean_on_tp', 'ORANGE_mean_on_tp',\n",
       "       'TIGO_mean_on_tp', 'REGULARITY_mean_on_tp', 'FREQ_TOP_PACK_mean_on_tp',\n",
       "       'MONTANT_mean_on_ten', 'FREQUENCE_RECH_mean_on_ten',\n",
       "       'REVENUE_mean_on_ten', 'ARPU_SEGMENT_mean_on_ten',\n",
       "       'FREQUENCE_mean_on_ten', 'DATA_VOLUME_mean_on_ten',\n",
       "       'ON_NET_mean_on_ten', 'ORANGE_mean_on_ten', 'TIGO_mean_on_ten',\n",
       "       'REGULARITY_mean_on_ten', 'FREQ_TOP_PACK_mean_on_ten', 'TOT_REVENUE',\n",
       "       'TOT_SPENT', 'GROSS', 'REVENUE-MONTANT', 'REVENUE/MONTANT',\n",
       "       'REGION_DAKAR', 'REGION_DIOURBEL', 'REGION_FATICK', 'REGION_KAFFRINE',\n",
       "       'REGION_KAOLACK', 'REGION_KEDOUGOU', 'REGION_KOLDA', 'REGION_LOUGA',\n",
       "       'REGION_MATAM', 'REGION_SAINT-LOUIS', 'REGION_SEDHIOU',\n",
       "       'REGION_TAMBACOUNDA', 'REGION_THIES', 'REGION_ZIGUINCHOR',\n",
       "       'TENURE_D 3-6 month', 'TENURE_E 6-9 month', 'TENURE_F 9-12 month',\n",
       "       'TENURE_G 12-15 month', 'TENURE_H 15-18 month', 'TENURE_I 18-21 month',\n",
       "       'TENURE_J 21-24 month', 'TENURE_K > 24 month'],\n",
       "      dtype='object')"
      ]
     },
     "execution_count": 24,
     "metadata": {},
     "output_type": "execute_result"
    }
   ],
   "source": [
    "train_data.columns"
   ]
  },
  {
   "cell_type": "code",
   "execution_count": 25,
   "metadata": {},
   "outputs": [],
   "source": [
    "train_data['CHURN'] = train_data['CHURN'].apply(int)"
   ]
  },
  {
   "cell_type": "code",
   "execution_count": 26,
   "metadata": {},
   "outputs": [
    {
     "data": {
      "text/plain": [
       "Index(['MONTANT', 'FREQUENCE_RECH', 'REVENUE', 'ARPU_SEGMENT', 'FREQUENCE',\n",
       "       'DATA_VOLUME', 'ON_NET', 'ORANGE', 'TIGO', 'REGULARITY', 'TOP_PACK',\n",
       "       'FREQ_TOP_PACK', 'MONTANT_mean_on_tp', 'FREQUENCE_RECH_mean_on_tp',\n",
       "       'REVENUE_mean_on_tp', 'ARPU_SEGMENT_mean_on_tp', 'FREQUENCE_mean_on_tp',\n",
       "       'DATA_VOLUME_mean_on_tp', 'ON_NET_mean_on_tp', 'ORANGE_mean_on_tp',\n",
       "       'TIGO_mean_on_tp', 'REGULARITY_mean_on_tp', 'FREQ_TOP_PACK_mean_on_tp',\n",
       "       'MONTANT_mean_on_ten', 'FREQUENCE_RECH_mean_on_ten',\n",
       "       'REVENUE_mean_on_ten', 'ARPU_SEGMENT_mean_on_ten',\n",
       "       'FREQUENCE_mean_on_ten', 'DATA_VOLUME_mean_on_ten',\n",
       "       'ON_NET_mean_on_ten', 'ORANGE_mean_on_ten', 'TIGO_mean_on_ten',\n",
       "       'REGULARITY_mean_on_ten', 'FREQ_TOP_PACK_mean_on_ten', 'TOT_REVENUE',\n",
       "       'TOT_SPENT', 'GROSS', 'REVENUE-MONTANT', 'REVENUE/MONTANT',\n",
       "       'REGION_DAKAR', 'REGION_DIOURBEL', 'REGION_FATICK', 'REGION_KAFFRINE',\n",
       "       'REGION_KAOLACK', 'REGION_KEDOUGOU', 'REGION_KOLDA', 'REGION_LOUGA',\n",
       "       'REGION_MATAM', 'REGION_SAINT-LOUIS', 'REGION_SEDHIOU',\n",
       "       'REGION_TAMBACOUNDA', 'REGION_THIES', 'REGION_ZIGUINCHOR',\n",
       "       'TENURE_D 3-6 month', 'TENURE_E 6-9 month', 'TENURE_F 9-12 month',\n",
       "       'TENURE_G 12-15 month', 'TENURE_H 15-18 month', 'TENURE_I 18-21 month',\n",
       "       'TENURE_J 21-24 month', 'TENURE_K > 24 month'],\n",
       "      dtype='object')"
      ]
     },
     "execution_count": 26,
     "metadata": {},
     "output_type": "execute_result"
    }
   ],
   "source": [
    "in_cols = train_data.drop(columns=['CHURN']).columns\n",
    "in_cols"
   ]
  },
  {
   "cell_type": "code",
   "execution_count": 27,
   "metadata": {},
   "outputs": [],
   "source": [
    "ycol = 'CHURN'"
   ]
  },
  {
   "cell_type": "code",
   "execution_count": 28,
   "metadata": {},
   "outputs": [],
   "source": [
    "kf = KFold(n_splits=5, shuffle=False)"
   ]
  },
  {
   "cell_type": "code",
   "execution_count": 29,
   "metadata": {},
   "outputs": [
    {
     "data": {
      "text/plain": [
       "0    325156\n",
       "1     74844\n",
       "Name: CHURN, dtype: int64"
      ]
     },
     "execution_count": 29,
     "metadata": {},
     "output_type": "execute_result"
    }
   ],
   "source": [
    "train_data['CHURN'].value_counts()"
   ]
  },
  {
   "cell_type": "code",
   "execution_count": 30,
   "metadata": {},
   "outputs": [
    {
     "name": "stdout",
     "output_type": "stream",
     "text": [
      "0.2525587010469911\n",
      "0.25267069664015296\n",
      "0.25403631323533366\n",
      "0.2558632785264341\n",
      "0.25194761699846524\n",
      "Average score in 5-fold CV: 0.2534153212894754\n"
     ]
    }
   ],
   "source": [
    "scores = []\n",
    "for train, test in kf.split(train_data):\n",
    "    lgb = LGBMClassifier()\n",
    "    lgb.fit(train_data[in_cols].iloc[train], train_data[ycol].iloc[train],verbose=50)\n",
    "    lloss = log_loss(train_data[ycol].iloc[test], lgb.predict_proba(train_data[in_cols].iloc[test])[:, 1])\n",
    "    scores.append(lloss)\n",
    "    print(lloss)\n",
    "\n",
    "print(\"Average score in 5-fold CV:\", np.mean(scores))"
   ]
  },
  {
   "cell_type": "code",
   "execution_count": 31,
   "metadata": {},
   "outputs": [],
   "source": [
    "\n",
    "params = {\n",
    "#     'n_estimators': 2000,\n",
    "#     'learning_rate': 0.15,\n",
    "    'objective': 'Logloss',\n",
    "#     'rsm': 0.7,\n",
    "    'random_seed': 2020,\n",
    "    'early_stopping_rounds': 200,\n",
    "#     'use_best_model': True,\n",
    "    'metric_period':100\n",
    "}"
   ]
  },
  {
   "cell_type": "code",
   "execution_count": null,
   "metadata": {},
   "outputs": [
    {
     "name": "stdout",
     "output_type": "stream",
     "text": [
      "Learning rate set to 0.142986\n"
     ]
    },
    {
     "name": "stderr",
     "output_type": "stream",
     "text": [
      "Warning: Overfitting detector is active, thus evaluation metric is calculated on every iteration. 'metric_period' is ignored for evaluation metric.\n"
     ]
    },
    {
     "name": "stdout",
     "output_type": "stream",
     "text": [
      "0:\tlearn: 0.5391395\ttest: 0.5389473\tbest: 0.5389473 (0)\ttotal: 299ms\tremaining: 4m 59s\n",
      "100:\tlearn: 0.2525176\ttest: 0.2525156\tbest: 0.2525156 (100)\ttotal: 13.7s\tremaining: 2m 1s\n",
      "200:\tlearn: 0.2498505\ttest: 0.2518138\tbest: 0.2518122 (199)\ttotal: 27s\tremaining: 1m 47s\n",
      "300:\tlearn: 0.2480849\ttest: 0.2516983\tbest: 0.2516850 (261)\ttotal: 40.2s\tremaining: 1m 33s\n",
      "400:\tlearn: 0.2466126\ttest: 0.2517735\tbest: 0.2516815 (301)\ttotal: 53.4s\tremaining: 1m 19s\n",
      "500:\tlearn: 0.2453395\ttest: 0.2519543\tbest: 0.2516815 (301)\ttotal: 1m 6s\tremaining: 1m 6s\n",
      "Stopped by overfitting detector  (200 iterations wait)\n",
      "\n",
      "bestTest = 0.2516814575\n",
      "bestIteration = 301\n",
      "\n",
      "Shrink model to first 302 iterations.\n",
      "0.251681457457433\n",
      "Learning rate set to 0.142986\n"
     ]
    },
    {
     "name": "stderr",
     "output_type": "stream",
     "text": [
      "Warning: Overfitting detector is active, thus evaluation metric is calculated on every iteration. 'metric_period' is ignored for evaluation metric.\n"
     ]
    },
    {
     "name": "stdout",
     "output_type": "stream",
     "text": [
      "0:\tlearn: 0.5460348\ttest: 0.5457241\tbest: 0.5457241 (0)\ttotal: 172ms\tremaining: 2m 51s\n",
      "100:\tlearn: 0.2523045\ttest: 0.2528773\tbest: 0.2528773 (100)\ttotal: 13.7s\tremaining: 2m 1s\n",
      "200:\tlearn: 0.2497749\ttest: 0.2522764\tbest: 0.2522764 (200)\ttotal: 27s\tremaining: 1m 47s\n",
      "300:\tlearn: 0.2480290\ttest: 0.2521865\tbest: 0.2521571 (277)\ttotal: 40.4s\tremaining: 1m 33s\n",
      "400:\tlearn: 0.2465589\ttest: 0.2521751\tbest: 0.2521324 (371)\ttotal: 53.9s\tremaining: 1m 20s\n",
      "500:\tlearn: 0.2452129\ttest: 0.2523216\tbest: 0.2521324 (371)\ttotal: 1m 7s\tremaining: 1m 6s\n",
      "Stopped by overfitting detector  (200 iterations wait)\n",
      "\n",
      "bestTest = 0.2521323509\n",
      "bestIteration = 371\n",
      "\n",
      "Shrink model to first 372 iterations.\n",
      "0.25213235090127495\n",
      "Learning rate set to 0.142986\n"
     ]
    },
    {
     "name": "stderr",
     "output_type": "stream",
     "text": [
      "Warning: Overfitting detector is active, thus evaluation metric is calculated on every iteration. 'metric_period' is ignored for evaluation metric.\n"
     ]
    },
    {
     "name": "stdout",
     "output_type": "stream",
     "text": [
      "0:\tlearn: 0.5453288\ttest: 0.5457151\tbest: 0.5457151 (0)\ttotal: 173ms\tremaining: 2m 52s\n",
      "100:\tlearn: 0.2519236\ttest: 0.2544132\tbest: 0.2544132 (100)\ttotal: 13.7s\tremaining: 2m 1s\n",
      "200:\tlearn: 0.2494512\ttest: 0.2538512\tbest: 0.2538243 (194)\ttotal: 27.2s\tremaining: 1m 48s\n",
      "300:\tlearn: 0.2476809\ttest: 0.2539579\tbest: 0.2538101 (230)\ttotal: 40.8s\tremaining: 1m 34s\n",
      "400:\tlearn: 0.2460484\ttest: 0.2540410\tbest: 0.2538101 (230)\ttotal: 54.2s\tremaining: 1m 21s\n",
      "Stopped by overfitting detector  (200 iterations wait)\n",
      "\n",
      "bestTest = 0.2538100977\n",
      "bestIteration = 230\n",
      "\n",
      "Shrink model to first 231 iterations.\n",
      "0.2538100977108301\n",
      "Learning rate set to 0.142986\n"
     ]
    },
    {
     "name": "stderr",
     "output_type": "stream",
     "text": [
      "Warning: Overfitting detector is active, thus evaluation metric is calculated on every iteration. 'metric_period' is ignored for evaluation metric.\n"
     ]
    },
    {
     "name": "stdout",
     "output_type": "stream",
     "text": [
      "0:\tlearn: 0.5396234\ttest: 0.5400546\tbest: 0.5400546 (0)\ttotal: 165ms\tremaining: 2m 45s\n",
      "100:\tlearn: 0.2516618\ttest: 0.2559151\tbest: 0.2559151 (100)\ttotal: 13.6s\tremaining: 2m 1s\n"
     ]
    }
   ],
   "source": [
    "scores = []\n",
    "for train, test in kf.split(train_data):\n",
    "    lgb = CatBoostClassifier(**params)\n",
    "    lgb.fit(train_data[in_cols].iloc[train], train_data[ycol].iloc[train],eval_set=[(train_data[in_cols].iloc[test], train_data[ycol].iloc[test])])\n",
    "    lloss = log_loss(train_data[ycol].iloc[test], lgb.predict_proba(train_data[in_cols].iloc[test])[:, 1])\n",
    "    scores.append(lloss)\n",
    "    print(lloss)\n",
    "\n",
    "print(\"Average score in 5-fold CV:\", np.mean(scores))"
   ]
  },
  {
   "cell_type": "code",
   "execution_count": 33,
   "metadata": {},
   "outputs": [
    {
     "name": "stdout",
     "output_type": "stream",
     "text": [
      "Learning rate set to 0.091308\n",
      "0:\tlearn: 0.5626761\ttotal: 242ms\tremaining: 4m 2s\n",
      "100:\tlearn: 0.2517957\ttotal: 16.6s\tremaining: 2m 27s\n",
      "200:\tlearn: 0.2504240\ttotal: 32.5s\tremaining: 2m 9s\n",
      "300:\tlearn: 0.2493448\ttotal: 48.5s\tremaining: 1m 52s\n",
      "400:\tlearn: 0.2483564\ttotal: 1m 4s\tremaining: 1m 36s\n",
      "500:\tlearn: 0.2475298\ttotal: 1m 20s\tremaining: 1m 20s\n",
      "600:\tlearn: 0.2467095\ttotal: 1m 36s\tremaining: 1m 4s\n",
      "700:\tlearn: 0.2459561\ttotal: 1m 52s\tremaining: 48.1s\n",
      "800:\tlearn: 0.2452932\ttotal: 2m 9s\tremaining: 32.1s\n",
      "900:\tlearn: 0.2446214\ttotal: 2m 25s\tremaining: 16s\n",
      "999:\tlearn: 0.2440026\ttotal: 2m 41s\tremaining: 0us\n"
     ]
    },
    {
     "data": {
      "text/plain": [
       "<catboost.core.CatBoostClassifier at 0x1ed014ad2e8>"
      ]
     },
     "execution_count": 33,
     "metadata": {},
     "output_type": "execute_result"
    }
   ],
   "source": [
    "cat = CatBoostClassifier(**params)\n",
    "cat.fit(train_data[in_cols], train_data[ycol])"
   ]
  },
  {
   "cell_type": "code",
   "execution_count": 34,
   "metadata": {},
   "outputs": [
    {
     "data": {
      "text/html": [
       "<div>\n",
       "<style scoped>\n",
       "    .dataframe tbody tr th:only-of-type {\n",
       "        vertical-align: middle;\n",
       "    }\n",
       "\n",
       "    .dataframe tbody tr th {\n",
       "        vertical-align: top;\n",
       "    }\n",
       "\n",
       "    .dataframe thead th {\n",
       "        text-align: right;\n",
       "    }\n",
       "</style>\n",
       "<table border=\"1\" class=\"dataframe\">\n",
       "  <thead>\n",
       "    <tr style=\"text-align: right;\">\n",
       "      <th></th>\n",
       "      <th>MONTANT</th>\n",
       "      <th>FREQUENCE_RECH</th>\n",
       "      <th>REVENUE</th>\n",
       "      <th>ARPU_SEGMENT</th>\n",
       "      <th>FREQUENCE</th>\n",
       "      <th>DATA_VOLUME</th>\n",
       "      <th>ON_NET</th>\n",
       "      <th>ORANGE</th>\n",
       "      <th>TIGO</th>\n",
       "      <th>REGULARITY</th>\n",
       "      <th>TOP_PACK</th>\n",
       "      <th>FREQ_TOP_PACK</th>\n",
       "      <th>CHURN</th>\n",
       "      <th>MONTANT_mean_on_reg</th>\n",
       "      <th>FREQUENCE_RECH_mean_on_reg</th>\n",
       "      <th>REVENUE_mean_on_reg</th>\n",
       "      <th>ARPU_SEGMENT_mean_on_reg</th>\n",
       "      <th>FREQUENCE_mean_on_reg</th>\n",
       "      <th>DATA_VOLUME_mean_on_reg</th>\n",
       "      <th>ON_NET_mean_on_reg</th>\n",
       "      <th>ORANGE_mean_on_reg</th>\n",
       "      <th>TIGO_mean_on_reg</th>\n",
       "      <th>REGULARITY_mean_on_reg</th>\n",
       "      <th>FREQ_TOP_PACK_mean_on_reg</th>\n",
       "      <th>TOT_REVENUE</th>\n",
       "      <th>TOT_SPENT</th>\n",
       "      <th>GROSS</th>\n",
       "      <th>REVENUE-MONTANT</th>\n",
       "      <th>REVENUE/MONTANT</th>\n",
       "      <th>REGION_DAKAR</th>\n",
       "      <th>REGION_DIOURBEL</th>\n",
       "      <th>REGION_FATICK</th>\n",
       "      <th>REGION_KAFFRINE</th>\n",
       "      <th>REGION_KAOLACK</th>\n",
       "      <th>REGION_KEDOUGOU</th>\n",
       "      <th>REGION_KOLDA</th>\n",
       "      <th>REGION_LOUGA</th>\n",
       "      <th>REGION_MATAM</th>\n",
       "      <th>REGION_SAINT-LOUIS</th>\n",
       "      <th>REGION_SEDHIOU</th>\n",
       "      <th>REGION_TAMBACOUNDA</th>\n",
       "      <th>REGION_THIES</th>\n",
       "      <th>REGION_ZIGUINCHOR</th>\n",
       "      <th>TENURE_D 3-6 month</th>\n",
       "      <th>TENURE_E 6-9 month</th>\n",
       "      <th>TENURE_F 9-12 month</th>\n",
       "      <th>TENURE_G 12-15 month</th>\n",
       "      <th>TENURE_H 15-18 month</th>\n",
       "      <th>TENURE_I 18-21 month</th>\n",
       "      <th>TENURE_J 21-24 month</th>\n",
       "      <th>TENURE_K &gt; 24 month</th>\n",
       "    </tr>\n",
       "  </thead>\n",
       "  <tbody>\n",
       "    <tr>\n",
       "      <th>0</th>\n",
       "      <td>0.0000</td>\n",
       "      <td>0.0000</td>\n",
       "      <td>0.0000</td>\n",
       "      <td>0.0000</td>\n",
       "      <td>0.0000</td>\n",
       "      <td>0.0000</td>\n",
       "      <td>0.0000</td>\n",
       "      <td>0.0000</td>\n",
       "      <td>0.0000</td>\n",
       "      <td>1</td>\n",
       "      <td>-1</td>\n",
       "      <td>0.0000</td>\n",
       "      <td>0.7798</td>\n",
       "      <td>nan</td>\n",
       "      <td>nan</td>\n",
       "      <td>nan</td>\n",
       "      <td>nan</td>\n",
       "      <td>nan</td>\n",
       "      <td>nan</td>\n",
       "      <td>nan</td>\n",
       "      <td>nan</td>\n",
       "      <td>nan</td>\n",
       "      <td>nan</td>\n",
       "      <td>nan</td>\n",
       "      <td>0.0000</td>\n",
       "      <td>0.0000</td>\n",
       "      <td>0.0000</td>\n",
       "      <td>0.0000</td>\n",
       "      <td>nan</td>\n",
       "      <td>0</td>\n",
       "      <td>0</td>\n",
       "      <td>0</td>\n",
       "      <td>0</td>\n",
       "      <td>0</td>\n",
       "      <td>0</td>\n",
       "      <td>0</td>\n",
       "      <td>0</td>\n",
       "      <td>0</td>\n",
       "      <td>0</td>\n",
       "      <td>0</td>\n",
       "      <td>0</td>\n",
       "      <td>0</td>\n",
       "      <td>0</td>\n",
       "      <td>0</td>\n",
       "      <td>0</td>\n",
       "      <td>0</td>\n",
       "      <td>0</td>\n",
       "      <td>0</td>\n",
       "      <td>0</td>\n",
       "      <td>0</td>\n",
       "      <td>1</td>\n",
       "    </tr>\n",
       "    <tr>\n",
       "      <th>1</th>\n",
       "      <td>0.0000</td>\n",
       "      <td>0.0000</td>\n",
       "      <td>2.3979</td>\n",
       "      <td>1.3863</td>\n",
       "      <td>0.6931</td>\n",
       "      <td>0.0000</td>\n",
       "      <td>0.0000</td>\n",
       "      <td>0.0000</td>\n",
       "      <td>0.0000</td>\n",
       "      <td>2</td>\n",
       "      <td>-1</td>\n",
       "      <td>0.0000</td>\n",
       "      <td>0.6251</td>\n",
       "      <td>nan</td>\n",
       "      <td>nan</td>\n",
       "      <td>nan</td>\n",
       "      <td>nan</td>\n",
       "      <td>nan</td>\n",
       "      <td>nan</td>\n",
       "      <td>nan</td>\n",
       "      <td>nan</td>\n",
       "      <td>nan</td>\n",
       "      <td>nan</td>\n",
       "      <td>nan</td>\n",
       "      <td>2.3979</td>\n",
       "      <td>0.0000</td>\n",
       "      <td>2.3979</td>\n",
       "      <td>10.0000</td>\n",
       "      <td>inf</td>\n",
       "      <td>0</td>\n",
       "      <td>0</td>\n",
       "      <td>0</td>\n",
       "      <td>0</td>\n",
       "      <td>0</td>\n",
       "      <td>0</td>\n",
       "      <td>0</td>\n",
       "      <td>0</td>\n",
       "      <td>0</td>\n",
       "      <td>0</td>\n",
       "      <td>0</td>\n",
       "      <td>0</td>\n",
       "      <td>0</td>\n",
       "      <td>0</td>\n",
       "      <td>0</td>\n",
       "      <td>0</td>\n",
       "      <td>0</td>\n",
       "      <td>0</td>\n",
       "      <td>0</td>\n",
       "      <td>0</td>\n",
       "      <td>0</td>\n",
       "      <td>1</td>\n",
       "    </tr>\n",
       "    <tr>\n",
       "      <th>2</th>\n",
       "      <td>7.5501</td>\n",
       "      <td>2.7726</td>\n",
       "      <td>7.7407</td>\n",
       "      <td>6.6425</td>\n",
       "      <td>3.0910</td>\n",
       "      <td>6.0283</td>\n",
       "      <td>0.0000</td>\n",
       "      <td>2.0794</td>\n",
       "      <td>1.0986</td>\n",
       "      <td>27</td>\n",
       "      <td>1</td>\n",
       "      <td>2.8904</td>\n",
       "      <td>0.1305</td>\n",
       "      <td>nan</td>\n",
       "      <td>nan</td>\n",
       "      <td>nan</td>\n",
       "      <td>nan</td>\n",
       "      <td>nan</td>\n",
       "      <td>nan</td>\n",
       "      <td>nan</td>\n",
       "      <td>nan</td>\n",
       "      <td>nan</td>\n",
       "      <td>nan</td>\n",
       "      <td>nan</td>\n",
       "      <td>10.7848</td>\n",
       "      <td>10.2577</td>\n",
       "      <td>9.8924</td>\n",
       "      <td>399.0000</td>\n",
       "      <td>1.2100</td>\n",
       "      <td>0</td>\n",
       "      <td>0</td>\n",
       "      <td>0</td>\n",
       "      <td>0</td>\n",
       "      <td>0</td>\n",
       "      <td>0</td>\n",
       "      <td>0</td>\n",
       "      <td>0</td>\n",
       "      <td>0</td>\n",
       "      <td>0</td>\n",
       "      <td>0</td>\n",
       "      <td>0</td>\n",
       "      <td>0</td>\n",
       "      <td>0</td>\n",
       "      <td>0</td>\n",
       "      <td>0</td>\n",
       "      <td>0</td>\n",
       "      <td>0</td>\n",
       "      <td>0</td>\n",
       "      <td>0</td>\n",
       "      <td>0</td>\n",
       "      <td>1</td>\n",
       "    </tr>\n",
       "    <tr>\n",
       "      <th>3</th>\n",
       "      <td>8.0067</td>\n",
       "      <td>2.3026</td>\n",
       "      <td>7.8648</td>\n",
       "      <td>6.7673</td>\n",
       "      <td>2.7081</td>\n",
       "      <td>5.8081</td>\n",
       "      <td>0.0000</td>\n",
       "      <td>3.1781</td>\n",
       "      <td>1.6094</td>\n",
       "      <td>46</td>\n",
       "      <td>12</td>\n",
       "      <td>1.3863</td>\n",
       "      <td>0.0006</td>\n",
       "      <td>7,337.4817</td>\n",
       "      <td>14.4445</td>\n",
       "      <td>7,382.6817</td>\n",
       "      <td>2,460.8959</td>\n",
       "      <td>17.6607</td>\n",
       "      <td>5,533.5742</td>\n",
       "      <td>248.5222</td>\n",
       "      <td>122.7052</td>\n",
       "      <td>26.8321</td>\n",
       "      <td>37.8616</td>\n",
       "      <td>11.4234</td>\n",
       "      <td>10.5035</td>\n",
       "      <td>10.2036</td>\n",
       "      <td>9.1530</td>\n",
       "      <td>-397.0000</td>\n",
       "      <td>0.8677</td>\n",
       "      <td>1</td>\n",
       "      <td>0</td>\n",
       "      <td>0</td>\n",
       "      <td>0</td>\n",
       "      <td>0</td>\n",
       "      <td>0</td>\n",
       "      <td>0</td>\n",
       "      <td>0</td>\n",
       "      <td>0</td>\n",
       "      <td>0</td>\n",
       "      <td>0</td>\n",
       "      <td>0</td>\n",
       "      <td>0</td>\n",
       "      <td>0</td>\n",
       "      <td>0</td>\n",
       "      <td>0</td>\n",
       "      <td>0</td>\n",
       "      <td>0</td>\n",
       "      <td>0</td>\n",
       "      <td>0</td>\n",
       "      <td>0</td>\n",
       "      <td>1</td>\n",
       "    </tr>\n",
       "    <tr>\n",
       "      <th>4</th>\n",
       "      <td>10.3735</td>\n",
       "      <td>3.8712</td>\n",
       "      <td>10.4043</td>\n",
       "      <td>9.3057</td>\n",
       "      <td>3.8712</td>\n",
       "      <td>0.0000</td>\n",
       "      <td>4.8598</td>\n",
       "      <td>6.3208</td>\n",
       "      <td>5.6384</td>\n",
       "      <td>61</td>\n",
       "      <td>0</td>\n",
       "      <td>4.1897</td>\n",
       "      <td>0.0001</td>\n",
       "      <td>7,337.4817</td>\n",
       "      <td>14.4445</td>\n",
       "      <td>7,382.6817</td>\n",
       "      <td>2,460.8959</td>\n",
       "      <td>17.6607</td>\n",
       "      <td>5,533.5742</td>\n",
       "      <td>248.5222</td>\n",
       "      <td>122.7052</td>\n",
       "      <td>26.8321</td>\n",
       "      <td>37.8616</td>\n",
       "      <td>11.4234</td>\n",
       "      <td>14.2544</td>\n",
       "      <td>14.2236</td>\n",
       "      <td>10.7579</td>\n",
       "      <td>1,000.0000</td>\n",
       "      <td>1.0312</td>\n",
       "      <td>1</td>\n",
       "      <td>0</td>\n",
       "      <td>0</td>\n",
       "      <td>0</td>\n",
       "      <td>0</td>\n",
       "      <td>0</td>\n",
       "      <td>0</td>\n",
       "      <td>0</td>\n",
       "      <td>0</td>\n",
       "      <td>0</td>\n",
       "      <td>0</td>\n",
       "      <td>0</td>\n",
       "      <td>0</td>\n",
       "      <td>0</td>\n",
       "      <td>0</td>\n",
       "      <td>0</td>\n",
       "      <td>0</td>\n",
       "      <td>0</td>\n",
       "      <td>0</td>\n",
       "      <td>0</td>\n",
       "      <td>0</td>\n",
       "      <td>1</td>\n",
       "    </tr>\n",
       "  </tbody>\n",
       "</table>\n",
       "</div>"
      ],
      "text/plain": [
       "               MONTANT       FREQUENCE_RECH              REVENUE  \\\n",
       "0               0.0000               0.0000               0.0000   \n",
       "1               0.0000               0.0000               2.3979   \n",
       "2               7.5501               2.7726               7.7407   \n",
       "3               8.0067               2.3026               7.8648   \n",
       "4              10.3735               3.8712              10.4043   \n",
       "\n",
       "          ARPU_SEGMENT            FREQUENCE          DATA_VOLUME  \\\n",
       "0               0.0000               0.0000               0.0000   \n",
       "1               1.3863               0.6931               0.0000   \n",
       "2               6.6425               3.0910               6.0283   \n",
       "3               6.7673               2.7081               5.8081   \n",
       "4               9.3057               3.8712               0.0000   \n",
       "\n",
       "                ON_NET               ORANGE                 TIGO  REGULARITY  \\\n",
       "0               0.0000               0.0000               0.0000           1   \n",
       "1               0.0000               0.0000               0.0000           2   \n",
       "2               0.0000               2.0794               1.0986          27   \n",
       "3               0.0000               3.1781               1.6094          46   \n",
       "4               4.8598               6.3208               5.6384          61   \n",
       "\n",
       "   TOP_PACK        FREQ_TOP_PACK                CHURN  MONTANT_mean_on_reg  \\\n",
       "0        -1               0.0000               0.7798                  nan   \n",
       "1        -1               0.0000               0.6251                  nan   \n",
       "2         1               2.8904               0.1305                  nan   \n",
       "3        12               1.3863               0.0006           7,337.4817   \n",
       "4         0               4.1897               0.0001           7,337.4817   \n",
       "\n",
       "   FREQUENCE_RECH_mean_on_reg  REVENUE_mean_on_reg  ARPU_SEGMENT_mean_on_reg  \\\n",
       "0                         nan                  nan                       nan   \n",
       "1                         nan                  nan                       nan   \n",
       "2                         nan                  nan                       nan   \n",
       "3                     14.4445           7,382.6817                2,460.8959   \n",
       "4                     14.4445           7,382.6817                2,460.8959   \n",
       "\n",
       "   FREQUENCE_mean_on_reg  DATA_VOLUME_mean_on_reg   ON_NET_mean_on_reg  \\\n",
       "0                    nan                      nan                  nan   \n",
       "1                    nan                      nan                  nan   \n",
       "2                    nan                      nan                  nan   \n",
       "3                17.6607               5,533.5742             248.5222   \n",
       "4                17.6607               5,533.5742             248.5222   \n",
       "\n",
       "    ORANGE_mean_on_reg     TIGO_mean_on_reg  REGULARITY_mean_on_reg  \\\n",
       "0                  nan                  nan                     nan   \n",
       "1                  nan                  nan                     nan   \n",
       "2                  nan                  nan                     nan   \n",
       "3             122.7052              26.8321                 37.8616   \n",
       "4             122.7052              26.8321                 37.8616   \n",
       "\n",
       "   FREQ_TOP_PACK_mean_on_reg          TOT_REVENUE            TOT_SPENT  \\\n",
       "0                        nan               0.0000               0.0000   \n",
       "1                        nan               2.3979               0.0000   \n",
       "2                        nan              10.7848              10.2577   \n",
       "3                    11.4234              10.5035              10.2036   \n",
       "4                    11.4234              14.2544              14.2236   \n",
       "\n",
       "                 GROSS      REVENUE-MONTANT      REVENUE/MONTANT  \\\n",
       "0               0.0000               0.0000                  nan   \n",
       "1               2.3979              10.0000                  inf   \n",
       "2               9.8924             399.0000               1.2100   \n",
       "3               9.1530            -397.0000               0.8677   \n",
       "4              10.7579           1,000.0000               1.0312   \n",
       "\n",
       "   REGION_DAKAR  REGION_DIOURBEL  REGION_FATICK  REGION_KAFFRINE  \\\n",
       "0             0                0              0                0   \n",
       "1             0                0              0                0   \n",
       "2             0                0              0                0   \n",
       "3             1                0              0                0   \n",
       "4             1                0              0                0   \n",
       "\n",
       "   REGION_KAOLACK  REGION_KEDOUGOU  REGION_KOLDA  REGION_LOUGA  REGION_MATAM  \\\n",
       "0               0                0             0             0             0   \n",
       "1               0                0             0             0             0   \n",
       "2               0                0             0             0             0   \n",
       "3               0                0             0             0             0   \n",
       "4               0                0             0             0             0   \n",
       "\n",
       "   REGION_SAINT-LOUIS  REGION_SEDHIOU  REGION_TAMBACOUNDA  REGION_THIES  \\\n",
       "0                   0               0                   0             0   \n",
       "1                   0               0                   0             0   \n",
       "2                   0               0                   0             0   \n",
       "3                   0               0                   0             0   \n",
       "4                   0               0                   0             0   \n",
       "\n",
       "   REGION_ZIGUINCHOR  TENURE_D 3-6 month  TENURE_E 6-9 month  \\\n",
       "0                  0                   0                   0   \n",
       "1                  0                   0                   0   \n",
       "2                  0                   0                   0   \n",
       "3                  0                   0                   0   \n",
       "4                  0                   0                   0   \n",
       "\n",
       "   TENURE_F 9-12 month  TENURE_G 12-15 month  TENURE_H 15-18 month  \\\n",
       "0                    0                     0                     0   \n",
       "1                    0                     0                     0   \n",
       "2                    0                     0                     0   \n",
       "3                    0                     0                     0   \n",
       "4                    0                     0                     0   \n",
       "\n",
       "   TENURE_I 18-21 month  TENURE_J 21-24 month  TENURE_K > 24 month  \n",
       "0                     0                     0                    1  \n",
       "1                     0                     0                    1  \n",
       "2                     0                     0                    1  \n",
       "3                     0                     0                    1  \n",
       "4                     0                     0                    1  "
      ]
     },
     "execution_count": 34,
     "metadata": {},
     "output_type": "execute_result"
    }
   ],
   "source": [
    "test_data['CHURN'] = cat.predict_proba(test_data[in_cols])[:,1]\n",
    "test_data.head()"
   ]
  },
  {
   "cell_type": "code",
   "execution_count": 36,
   "metadata": {},
   "outputs": [],
   "source": [
    "test = pd.read_csv('Test.csv')"
   ]
  },
  {
   "cell_type": "code",
   "execution_count": 37,
   "metadata": {},
   "outputs": [],
   "source": [
    "test['CHURN'] = cat.predict_proba(test_data[in_cols])[:,1]\n",
    "# test_data.head()"
   ]
  },
  {
   "cell_type": "code",
   "execution_count": 38,
   "metadata": {
    "scrolled": false
   },
   "outputs": [],
   "source": [
    "test[['user_id','CHURN']].to_csv('cat_2.csv', index=False)"
   ]
  },
  {
   "cell_type": "code",
   "execution_count": null,
   "metadata": {},
   "outputs": [],
   "source": []
  }
 ],
 "metadata": {
  "kernelspec": {
   "display_name": "Python 3",
   "language": "python",
   "name": "python3"
  },
  "language_info": {
   "codemirror_mode": {
    "name": "ipython",
    "version": 3
   },
   "file_extension": ".py",
   "mimetype": "text/x-python",
   "name": "python",
   "nbconvert_exporter": "python",
   "pygments_lexer": "ipython3",
   "version": "3.7.1"
  }
 },
 "nbformat": 4,
 "nbformat_minor": 2
}
